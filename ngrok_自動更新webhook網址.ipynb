{
  "nbformat": 4,
  "nbformat_minor": 0,
  "metadata": {
    "colab": {
      "provenance": []
    },
    "kernelspec": {
      "name": "python3",
      "display_name": "Python 3"
    },
    "language_info": {
      "name": "python"
    }
  },
  "cells": [
    {
      "cell_type": "markdown",
      "source": [
        "自動更新Webhook Url\n",
        "\n",
        "twgo.io/jhplk ，請製作副本到你的colab\n",
        "\n",
        "把自動更新webhook機制套用到你現在的程式中"
      ],
      "metadata": {
        "id": "AhRg-fz0MNNM"
      }
    },
    {
      "cell_type": "code",
      "execution_count": null,
      "metadata": {
        "id": "qFUH_ygmd94h"
      },
      "outputs": [],
      "source": [
        "!pip install flask-ngrok\n",
        "!pip install flask\n",
        "!pip install pyngrok\n",
        "!pip install line-bot-sdk\n",
        "!ngrok authtoken 'Your ngrok Token' #你自己的ngrok Token\n",
        "Line_Channel_Access_Token='Your Line_Channel_Access_Token'\n",
        "Line_Channel_Secret='Your Line_Channel_Secret'"
      ]
    },
    {
      "cell_type": "code",
      "source": [
        "ngrok_url=''\n",
        "#自動更新WebhookURL\n",
        "def auto_update_webhook_url():\n",
        "  while(1):\n",
        "    time.sleep(5) #等候5秒讓ngrok完成註冊新網址\n",
        "    try:\n",
        "      import json\n",
        "      import requests    \n",
        "      #取得ngrok最新產生的url\n",
        "      self_url = \"http://localhost:4040/api/tunnels\"\n",
        "      res = requests.get(self_url)\n",
        "      res_unicode = res.content.decode(\"utf-8\")\n",
        "      res_json = json.loads(res_unicode)  \n",
        "      ngrok_url = res_json[\"tunnels\"][0][\"public_url\"]\n",
        "\n",
        "      #開始更新\n",
        "      line_put_endpoint_url = \"https://api.line.me/v2/bot/channel/webhook/endpoint\"\n",
        "      data = {\"endpoint\": ngrok_url + '/callback'}\n",
        "      headers = {\n",
        "        \"Authorization\": \"Bearer \" + Line_Channel_Access_Token ,\n",
        "        \"Content-Type\": \"application/json\"\n",
        "      }\n",
        "      print(data)\n",
        "      res = requests.put(line_put_endpoint_url, headers=headers, json=data)\n",
        "      # 檢查回應狀態碼\n",
        "      if res.status_code == 200:\n",
        "        print(\"WebhookURL更新成功！\")\n",
        "        break\n",
        "        #強制關閉threading\n",
        "        x._stop()\n",
        "      else:\n",
        "        print(\"WebhookURL更新失敗\")    \n",
        "    except:\n",
        "      pass\n",
        "      #強制關閉threading\n",
        "      break\n",
        "      x._stop()\n"
      ],
      "metadata": {
        "id": "_wqzagXsvnRQ"
      },
      "execution_count": null,
      "outputs": []
    },
    {
      "cell_type": "code",
      "source": [
        "from flask import *\n",
        "from flask_ngrok import run_with_ngrok\n",
        "from linebot import (LineBotApi, WebhookHandler)\n",
        "from linebot.exceptions import ( InvalidSignatureError)\n",
        "from linebot.models import *\n",
        "import time\n",
        "import threading\n",
        "\n",
        "#Messaging API settings/Channel access token\n",
        "line_bot_api = LineBotApi(Line_Channel_Access_Token)\n",
        "\n",
        "#Basic settings/Channel secret \n",
        "handler = WebhookHandler(Line_Channel_Secret)\n",
        "\n",
        "app = Flask(__name__)\n",
        "run_with_ngrok(app)  \n",
        "\n",
        "\n",
        "\n",
        "app = Flask(__name__)\n",
        "run_with_ngrok(app)  \n",
        "\n",
        "@app.route(\"/\")\n",
        "def home():\n",
        "  return \"<h1>我是大帥哥</h1>\" \n",
        "\n",
        "@app.route(\"/callback\", methods=['POST'])\n",
        "def callback():\n",
        "    # get X-Line-Signature header value\n",
        "    signature = request.headers['X-Line-Signature']\n",
        "\n",
        "    # get request body as text\n",
        "    body = request.get_data(as_text=True)\n",
        "    app.logger.info(\"Request body: \" + body)\n",
        "\n",
        "    # handle webhook body\n",
        "    try:\n",
        "        handler.handle(body, signature)\n",
        "    except InvalidSignatureError:\n",
        "        abort(400)\n",
        "\n",
        "    return 'OK'\n",
        "\n",
        "#實際處理訊息的部份\n",
        "@handler.add(MessageEvent, message=TextMessage)\n",
        "def handle_message(event):    \n",
        "    replyMsg=[ TextSendMessage(text=event.message.text)]       #回覆文字=收到的文字\n",
        "    line_bot_api.reply_message(\n",
        "        event.reply_token,\n",
        "        replyMsg\n",
        "    )\n",
        "\n",
        "\n",
        "if __name__ == \"__main__\":\n",
        "  #啟動執行緒以更新webhook_url網址\n",
        "  x = threading.Thread(target=auto_update_webhook_url)\n",
        "  x.start()\n",
        "  app.run()"
      ],
      "metadata": {
        "id": "VTxLn-FBe36a"
      },
      "execution_count": null,
      "outputs": []
    }
  ]
}